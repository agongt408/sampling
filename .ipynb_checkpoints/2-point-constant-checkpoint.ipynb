{
 "cells": [
  {
   "cell_type": "code",
   "execution_count": 1,
   "metadata": {},
   "outputs": [],
   "source": [
    "from sympy import *"
   ]
  },
  {
   "cell_type": "code",
   "execution_count": 2,
   "metadata": {},
   "outputs": [],
   "source": [
    "f0, a, b = symbols('f_0 a b')"
   ]
  },
  {
   "cell_type": "code",
   "execution_count": 47,
   "metadata": {},
   "outputs": [],
   "source": [
    "x = symbols('x')\n",
    "# phi_x = (x-1)**2\n",
    "phi_x = x*log(x)-x+1\n",
    "phi_prime_x = diff(phi_x, x)"
   ]
  },
  {
   "cell_type": "code",
   "execution_count": 48,
   "metadata": {},
   "outputs": [
    {
     "data": {
      "text/latex": [
       "$\\displaystyle x \\log{\\left(x \\right)} - x + 1$"
      ],
      "text/plain": [
       "x*log(x) - x + 1"
      ]
     },
     "execution_count": 48,
     "metadata": {},
     "output_type": "execute_result"
    }
   ],
   "source": [
    "phi_x"
   ]
  },
  {
   "cell_type": "code",
   "execution_count": 49,
   "metadata": {},
   "outputs": [
    {
     "data": {
      "text/latex": [
       "$\\displaystyle 0.998978965962802$"
      ],
      "text/plain": [
       "0.998978965962802"
      ]
     },
     "execution_count": 49,
     "metadata": {},
     "output_type": "execute_result"
    }
   ],
   "source": [
    "phi_x.subs(x,0.0001)"
   ]
  },
  {
   "cell_type": "code",
   "execution_count": 50,
   "metadata": {},
   "outputs": [
    {
     "data": {
      "text/latex": [
       "$\\displaystyle \\log{\\left(x \\right)}$"
      ],
      "text/plain": [
       "log(x)"
      ]
     },
     "execution_count": 50,
     "metadata": {},
     "output_type": "execute_result"
    }
   ],
   "source": [
    "phi_prime_x"
   ]
  },
  {
   "cell_type": "code",
   "execution_count": 51,
   "metadata": {},
   "outputs": [],
   "source": [
    "C = (f0-1)*(phi_prime_x.subs(x, f0)-phi_prime_x.subs(x, 1/a * (a+b-b*f0))) / \\\n",
    "        ( phi_x.subs(x,f0) + a/b * phi_x.subs(x, 1/a * (a+b-b*f0)) )"
   ]
  },
  {
   "cell_type": "code",
   "execution_count": 52,
   "metadata": {},
   "outputs": [
    {
     "data": {
      "text/latex": [
       "$\\displaystyle \\frac{\\left(f_{0} - 1\\right) \\left(\\log{\\left(f_{0} \\right)} - \\log{\\left(\\frac{a - b f_{0} + b}{a} \\right)}\\right)}{\\frac{a \\left(1 + \\frac{\\left(a - b f_{0} + b\\right) \\log{\\left(\\frac{a - b f_{0} + b}{a} \\right)}}{a} - \\frac{a - b f_{0} + b}{a}\\right)}{b} + f_{0} \\log{\\left(f_{0} \\right)} - f_{0} + 1}$"
      ],
      "text/plain": [
       "(f_0 - 1)*(log(f_0) - log((a - b*f_0 + b)/a))/(a*(1 + (a - b*f_0 + b)*log((a - b*f_0 + b)/a)/a - (a - b*f_0 + b)/a)/b + f_0*log(f_0) - f_0 + 1)"
      ]
     },
     "execution_count": 52,
     "metadata": {},
     "output_type": "execute_result"
    }
   ],
   "source": [
    "C"
   ]
  },
  {
   "cell_type": "code",
   "execution_count": 53,
   "metadata": {},
   "outputs": [
    {
     "data": {
      "text/latex": [
       "$\\displaystyle \\frac{b \\left(f_{0} - 1\\right) \\left(\\log{\\left(f_{0} \\right)} - \\log{\\left(\\frac{a - b f_{0} + b}{a} \\right)}\\right)}{b f_{0} + b \\left(f_{0} \\log{\\left(f_{0} \\right)} - f_{0} + 1\\right) - b + \\left(a - b f_{0} + b\\right) \\log{\\left(\\frac{a - b f_{0} + b}{a} \\right)}}$"
      ],
      "text/plain": [
       "b*(f_0 - 1)*(log(f_0) - log((a - b*f_0 + b)/a))/(b*f_0 + b*(f_0*log(f_0) - f_0 + 1) - b + (a - b*f_0 + b)*log((a - b*f_0 + b)/a))"
      ]
     },
     "execution_count": 53,
     "metadata": {},
     "output_type": "execute_result"
    }
   ],
   "source": [
    "simplify(C)"
   ]
  },
  {
   "cell_type": "code",
   "execution_count": 87,
   "metadata": {},
   "outputs": [],
   "source": [
    "a_val, b_val = 1/10, 1/2"
   ]
  },
  {
   "cell_type": "code",
   "execution_count": 88,
   "metadata": {},
   "outputs": [],
   "source": [
    "C_f0 = C.subs([(a,a_val), (b,b_val)])"
   ]
  },
  {
   "cell_type": "code",
   "execution_count": 89,
   "metadata": {},
   "outputs": [
    {
     "data": {
      "text/latex": [
       "$\\displaystyle \\frac{\\left(f_{0} - 1\\right) \\left(\\log{\\left(f_{0} \\right)} - \\log{\\left(6.0 - 5.0 f_{0} \\right)}\\right)}{f_{0} \\log{\\left(f_{0} \\right)} + 2.0 \\left(0.6 - 0.5 f_{0}\\right) \\log{\\left(6.0 - 5.0 f_{0} \\right)}}$"
      ],
      "text/plain": [
       "(f_0 - 1)*(log(f_0) - log(6.0 - 5.0*f_0))/(f_0*log(f_0) + 2.0*(0.6 - 0.5*f_0)*log(6.0 - 5.0*f_0))"
      ]
     },
     "execution_count": 89,
     "metadata": {},
     "output_type": "execute_result"
    }
   ],
   "source": [
    "C_f0"
   ]
  },
  {
   "cell_type": "code",
   "execution_count": 90,
   "metadata": {},
   "outputs": [
    {
     "data": {
      "image/png": "[encoded data removed]",
      "text/plain": [
       "<Figure size 432x288 with 1 Axes>"
      ]
     },
     "metadata": {
      "needs_background": "light"
     },
     "output_type": "display_data"
    }
   ],
   "source": [
    "eps = 10**-4\n",
    "p = plot(C_f0, (f0, eps, a_val/b_val+1-eps))"
   ]
  },
  {
   "cell_type": "code",
   "execution_count": 93,
   "metadata": {},
   "outputs": [
    {
     "data": {
      "text/plain": [
       "1.8254218279485375"
      ]
     },
     "execution_count": 93,
     "metadata": {},
     "output_type": "execute_result"
    }
   ],
   "source": [
    "float(limit(C_f0, f0, 0.6))"
   ]
  },
  {
   "cell_type": "code",
   "execution_count": null,
   "metadata": {},
   "outputs": [],
   "source": []
  }
 ],
 "metadata": {
  "kernelspec": {
   "display_name": "Python 3",
   "language": "python",
   "name": "python3"
  },
  "language_info": {
   "codemirror_mode": {
    "name": "ipython",
    "version": 3
   },
   "file_extension": ".py",
   "mimetype": "text/x-python",
   "name": "python",
   "nbconvert_exporter": "python",
   "pygments_lexer": "ipython3",
   "version": "3.8.3"
  }
 },
 "nbformat": 4,
 "nbformat_minor": 4
}
