{
 "cells": [
  {
   "cell_type": "markdown",
   "metadata": {},
   "source": [
    "# Generalized Metropolis Projection"
   ]
  },
  {
   "cell_type": "code",
   "execution_count": 91,
   "metadata": {},
   "outputs": [],
   "source": [
    "import numpy as np\n",
    "import networkx as nx\n",
    "import matplotlib.pyplot as plt\n",
    "import tqdm"
   ]
  },
  {
   "cell_type": "markdown",
   "metadata": {},
   "source": [
    "## Produce Random Ergodic Random Walk"
   ]
  },
  {
   "cell_type": "code",
   "execution_count": 105,
   "metadata": {},
   "outputs": [],
   "source": [
    "def rand_connected_graph(n, p):    \n",
    "    while True:\n",
    "        rand_matrix = np.random.rand(n,n)\n",
    "        rand_adj_matrix = (rand_matrix < np.sqrt(p))\n",
    "        rand_sym_adj_matrix = np.logical_and(rand_adj_matrix, rand_adj_matrix.T).astype(int)\n",
    "        \n",
    "        # Ensure irreducible (equivalently, graph is connected)\n",
    "        if nx.is_connected(nx.from_numpy_matrix(rand_sym_adj_matrix)):\n",
    "            # Ensure aperiodic (equivalently, one state is aperiodic if Markov chain is irreducible)\n",
    "            # https://stats.stackexchange.com/questions/143948/aperiodicity-in-markov-chain\n",
    "            rand_sym_adj_matrix[0][0] = 1\n",
    "            \n",
    "            return rand_sym_adj_matrix\n",
    "\n",
    "def rand_kernel_matrix(n, p):\n",
    "    rand_adj_matrix = rand_connected_graph(n,p)\n",
    "    return np.divide(rand_adj_matrix, np.sum(rand_adj_matrix, axis=-1).repeat(n).reshape(n,n))"
   ]
  },
  {
   "cell_type": "code",
   "execution_count": 106,
   "metadata": {},
   "outputs": [
    {
     "data": {
      "text/plain": [
       "array([[1, 0, 0, 0, 1, 0, 1, 1, 1, 0],\n",
       "       [0, 1, 1, 1, 0, 0, 1, 1, 1, 1],\n",
       "       [0, 1, 1, 1, 0, 1, 1, 0, 1, 1],\n",
       "       [0, 1, 1, 1, 1, 0, 0, 1, 1, 1],\n",
       "       [1, 0, 0, 1, 0, 1, 1, 1, 1, 0],\n",
       "       [0, 0, 1, 0, 1, 0, 0, 1, 1, 1],\n",
       "       [1, 1, 1, 0, 1, 0, 1, 1, 1, 0],\n",
       "       [1, 1, 0, 1, 1, 1, 1, 0, 0, 1],\n",
       "       [1, 1, 1, 1, 1, 1, 1, 0, 0, 1],\n",
       "       [0, 1, 1, 1, 0, 1, 0, 1, 1, 0]])"
      ]
     },
     "execution_count": 106,
     "metadata": {},
     "output_type": "execute_result"
    }
   ],
   "source": [
    "rand_connected_graph(10, 0.5)"
   ]
  },
  {
   "cell_type": "code",
   "execution_count": 107,
   "metadata": {},
   "outputs": [],
   "source": [
    "K = rand_kernel_matrix(10, 0.5)"
   ]
  },
  {
   "cell_type": "code",
   "execution_count": 108,
   "metadata": {},
   "outputs": [
    {
     "data": {
      "text/plain": [
       "array([[0.33333333, 0.        , 0.33333333, 0.        , 0.        ,\n",
       "        0.        , 0.33333333, 0.        , 0.        , 0.        ],\n",
       "       [0.        , 0.33333333, 0.        , 0.33333333, 0.        ,\n",
       "        0.        , 0.        , 0.        , 0.33333333, 0.        ],\n",
       "       [0.2       , 0.        , 0.2       , 0.        , 0.2       ,\n",
       "        0.        , 0.        , 0.2       , 0.2       , 0.        ],\n",
       "       [0.        , 0.16666667, 0.        , 0.16666667, 0.16666667,\n",
       "        0.16666667, 0.16666667, 0.        , 0.        , 0.16666667],\n",
       "       [0.        , 0.        , 0.2       , 0.2       , 0.2       ,\n",
       "        0.        , 0.2       , 0.2       , 0.        , 0.        ],\n",
       "       [0.        , 0.        , 0.        , 0.33333333, 0.        ,\n",
       "        0.        , 0.        , 0.33333333, 0.33333333, 0.        ],\n",
       "       [0.16666667, 0.        , 0.        , 0.16666667, 0.16666667,\n",
       "        0.        , 0.16666667, 0.        , 0.16666667, 0.16666667],\n",
       "       [0.        , 0.        , 0.33333333, 0.        , 0.33333333,\n",
       "        0.33333333, 0.        , 0.        , 0.        , 0.        ],\n",
       "       [0.        , 0.2       , 0.2       , 0.        , 0.        ,\n",
       "        0.2       , 0.2       , 0.        , 0.2       , 0.        ],\n",
       "       [0.        , 0.        , 0.        , 0.33333333, 0.        ,\n",
       "        0.        , 0.33333333, 0.        , 0.        , 0.33333333]])"
      ]
     },
     "execution_count": 108,
     "metadata": {},
     "output_type": "execute_result"
    }
   ],
   "source": [
    "K"
   ]
  },
  {
   "cell_type": "markdown",
   "metadata": {},
   "source": [
    "## Calculate Spectral Properties"
   ]
  },
  {
   "cell_type": "code",
   "execution_count": 109,
   "metadata": {},
   "outputs": [],
   "source": [
    "L = K - np.identity(10)"
   ]
  },
  {
   "cell_type": "code",
   "execution_count": 110,
   "metadata": {},
   "outputs": [
    {
     "data": {
      "text/plain": [
       "array([[-0.66666667,  0.        ,  0.33333333,  0.        ,  0.        ,\n",
       "         0.        ,  0.33333333,  0.        ,  0.        ,  0.        ],\n",
       "       [ 0.        , -0.66666667,  0.        ,  0.33333333,  0.        ,\n",
       "         0.        ,  0.        ,  0.        ,  0.33333333,  0.        ],\n",
       "       [ 0.2       ,  0.        , -0.8       ,  0.        ,  0.2       ,\n",
       "         0.        ,  0.        ,  0.2       ,  0.2       ,  0.        ],\n",
       "       [ 0.        ,  0.16666667,  0.        , -0.83333333,  0.16666667,\n",
       "         0.16666667,  0.16666667,  0.        ,  0.        ,  0.16666667],\n",
       "       [ 0.        ,  0.        ,  0.2       ,  0.2       , -0.8       ,\n",
       "         0.        ,  0.2       ,  0.2       ,  0.        ,  0.        ],\n",
       "       [ 0.        ,  0.        ,  0.        ,  0.33333333,  0.        ,\n",
       "        -1.        ,  0.        ,  0.33333333,  0.33333333,  0.        ],\n",
       "       [ 0.16666667,  0.        ,  0.        ,  0.16666667,  0.16666667,\n",
       "         0.        , -0.83333333,  0.        ,  0.16666667,  0.16666667],\n",
       "       [ 0.        ,  0.        ,  0.33333333,  0.        ,  0.33333333,\n",
       "         0.33333333,  0.        , -1.        ,  0.        ,  0.        ],\n",
       "       [ 0.        ,  0.2       ,  0.2       ,  0.        ,  0.        ,\n",
       "         0.2       ,  0.2       ,  0.        , -0.8       ,  0.        ],\n",
       "       [ 0.        ,  0.        ,  0.        ,  0.33333333,  0.        ,\n",
       "         0.        ,  0.33333333,  0.        ,  0.        , -0.66666667]])"
      ]
     },
     "execution_count": 110,
     "metadata": {},
     "output_type": "execute_result"
    }
   ],
   "source": [
    "L"
   ]
  },
  {
   "cell_type": "code",
   "execution_count": 111,
   "metadata": {},
   "outputs": [
    {
     "data": {
      "text/plain": [
       "array([-0.        ,  0.39087713,  0.46146426,  0.56954681,  0.79061917,\n",
       "        0.89499263,  0.91330675,  1.14742952,  1.31722871,  1.58120169])"
      ]
     },
     "execution_count": 111,
     "metadata": {},
     "output_type": "execute_result"
    }
   ],
   "source": [
    "np.sort(-np.linalg.eigvals(L.T))"
   ]
  },
  {
   "cell_type": "code",
   "execution_count": 112,
   "metadata": {},
   "outputs": [
    {
     "data": {
      "text/plain": [
       "(array([ 0.        , -1.58120169, -1.31722871, -0.39087713, -0.46146426,\n",
       "        -0.56954681, -1.14742952, -0.79061917, -0.89499263, -0.91330675]),\n",
       " array([[ 0.21650635,  0.09807672, -0.26172919,  0.32107554,  0.32585629,\n",
       "         -0.47648368, -0.08860441,  0.07199563,  0.38168686, -0.09374421],\n",
       "        [ 0.21650635, -0.16320938,  0.05050333, -0.32454937, -0.40583767,\n",
       "         -0.31840522, -0.31477676,  0.40969264,  0.05107872,  0.16680478],\n",
       "        [ 0.36084392, -0.29860411,  0.36040873,  0.55093009, -0.07098776,\n",
       "         -0.07335281,  0.39389595,  0.03236554, -0.10516553,  0.57305251],\n",
       "        [ 0.4330127 ,  0.40800582,  0.16623777, -0.47006   ,  0.04398372,\n",
       "          0.26055124,  0.65484538,  0.27671453,  0.45827345, -0.14327338],\n",
       "        [ 0.36084392, -0.16796999, -0.50237742,  0.22941651,  0.05970995,\n",
       "          0.4958062 , -0.01512757,  0.5272767 , -0.38061718, -0.19815398],\n",
       "        [ 0.21650635, -0.51991033, -0.09145169, -0.00961008, -0.25488007,\n",
       "          0.20022496, -0.03289797, -0.39655578,  0.33581775, -0.20682976],\n",
       "        [ 0.4330127 , -0.17984266,  0.58913599, -0.12982047,  0.48638429,\n",
       "         -0.18963278, -0.21708888, -0.09238288, -0.39669548, -0.54893654],\n",
       "        [ 0.21650635,  0.45873621,  0.18559996,  0.2509608 , -0.16194948,\n",
       "          0.35133282, -0.43944853, -0.09674626,  0.14077781,  0.06963   ],\n",
       "        [ 0.36084392,  0.40629861, -0.30280923, -0.05581993, -0.45304744,\n",
       "         -0.37174338,  0.21096039, -0.48450757, -0.44020753, -0.08630925],\n",
       "        [ 0.21650635, -0.0415809 , -0.19351825, -0.36252311,  0.43076817,\n",
       "          0.12170265, -0.1517576 , -0.24785255, -0.04494887,  0.46775982]]))"
      ]
     },
     "execution_count": 112,
     "metadata": {},
     "output_type": "execute_result"
    }
   ],
   "source": [
    "np.linalg.eig(L.T)"
   ]
  },
  {
   "cell_type": "code",
   "execution_count": 113,
   "metadata": {},
   "outputs": [],
   "source": [
    "def spectral_gap(L, n):\n",
    "    eigvals = np.linalg.eigvals(L.T)\n",
    "    return np.sort(-eigvals)[1]"
   ]
  },
  {
   "cell_type": "code",
   "execution_count": 114,
   "metadata": {},
   "outputs": [],
   "source": [
    "gamma = spectral_gap(L, 10)"
   ]
  },
  {
   "cell_type": "code",
   "execution_count": 115,
   "metadata": {},
   "outputs": [
    {
     "data": {
      "text/plain": [
       "0.39087713476683505"
      ]
     },
     "execution_count": 115,
     "metadata": {},
     "output_type": "execute_result"
    }
   ],
   "source": [
    "gamma"
   ]
  },
  {
   "cell_type": "code",
   "execution_count": 116,
   "metadata": {},
   "outputs": [],
   "source": [
    "def uniform_distribution(n):\n",
    "    return np.ones(n) / n\n",
    "\n",
    "def random_distribution(n):\n",
    "    arr = np.random.rand(n) * n\n",
    "    return arr / np.sum(arr)"
   ]
  },
  {
   "cell_type": "code",
   "execution_count": 117,
   "metadata": {},
   "outputs": [],
   "source": [
    "target = random_distribution(10)"
   ]
  },
  {
   "cell_type": "code",
   "execution_count": 118,
   "metadata": {},
   "outputs": [
    {
     "data": {
      "text/plain": [
       "array([0.13098046, 0.0650051 , 0.31630812, 0.02270509, 0.0203919 ,\n",
       "       0.15085895, 0.08423434, 0.07612305, 0.04734968, 0.08604332])"
      ]
     },
     "execution_count": 118,
     "metadata": {},
     "output_type": "execute_result"
    }
   ],
   "source": [
    "target"
   ]
  },
  {
   "cell_type": "code",
   "execution_count": 119,
   "metadata": {},
   "outputs": [
    {
     "data": {
      "text/plain": [
       "1.0"
      ]
     },
     "execution_count": 119,
     "metadata": {},
     "output_type": "execute_result"
    }
   ],
   "source": [
    "np.sum(target)"
   ]
  },
  {
   "cell_type": "code",
   "execution_count": 120,
   "metadata": {},
   "outputs": [],
   "source": [
    "def metropolis_projected_generator(L, target, n, phi='tv'):\n",
    "    PI = np.repeat(target, n).reshape(n,n)\n",
    "    r = np.nan_to_num(np.divide(PI.T, PI) * np.divide(L.T, L), 0)\n",
    "\n",
    "    if phi == 'tv':\n",
    "        correction = np.minimum(np.ones((n,n)), r)\n",
    "    elif phi == 'chi':\n",
    "        correction = 2/(1+1/r)\n",
    "    elif phi == 'kl':\n",
    "        correction = np.sqrt(r)\n",
    "    else:\n",
    "        raise ValueError(\"unsupported phi\")\n",
    "    \n",
    "    off_diag = correction * L\n",
    "    off_diag -= np.diag(np.diag(off_diag))\n",
    "    \n",
    "    row_sum = np.sum(off_diag, axis=-1)\n",
    "    \n",
    "    return off_diag - np.diag(row_sum)"
   ]
  },
  {
   "cell_type": "code",
   "execution_count": 121,
   "metadata": {},
   "outputs": [
    {
     "name": "stderr",
     "output_type": "stream",
     "text": [
      "<ipython-input-120-e6e971544815>:3: RuntimeWarning: invalid value encountered in true_divide\n",
      "  r = np.nan_to_num(np.divide(PI.T, PI) * np.divide(L.T, L), 0)\n"
     ]
    }
   ],
   "source": [
    "L_tilde = metropolis_projected_generator(L, target, 10, phi='tv')"
   ]
  },
  {
   "cell_type": "code",
   "execution_count": 122,
   "metadata": {},
   "outputs": [
    {
     "data": {
      "text/plain": [
       "array([[-0.44051769,  0.        ,  0.33333333,  0.        ,  0.        ,\n",
       "         0.        ,  0.10718436,  0.        ,  0.        ,  0.        ],\n",
       "       [ 0.        , -0.2038935 ,  0.        ,  0.05821361,  0.        ,\n",
       "         0.        ,  0.        ,  0.        ,  0.14567989,  0.        ],\n",
       "       [ 0.13803045,  0.        , -0.26108346,  0.        ,  0.01289369,\n",
       "         0.        ,  0.        ,  0.08022035,  0.02993896,  0.        ],\n",
       "       [ 0.        ,  0.16666667,  0.        , -0.83333333,  0.16666667,\n",
       "         0.16666667,  0.16666667,  0.        ,  0.        ,  0.16666667],\n",
       "       [ 0.        ,  0.        ,  0.2       ,  0.18557276, -0.78557276,\n",
       "         0.        ,  0.2       ,  0.2       ,  0.        ,  0.        ],\n",
       "       [ 0.        ,  0.        ,  0.        ,  0.02508424,  0.        ,\n",
       "        -0.25605685,  0.        ,  0.16819917,  0.06277344,  0.        ],\n",
       "       [ 0.16666667,  0.        ,  0.        ,  0.04492445,  0.04841707,\n",
       "         0.        , -0.53909855,  0.        ,  0.11242369,  0.16666667],\n",
       "       [ 0.        ,  0.        ,  0.33333333,  0.        ,  0.05357616,\n",
       "         0.33333333,  0.        , -0.72024282,  0.        ,  0.        ],\n",
       "       [ 0.        ,  0.2       ,  0.2       ,  0.        ,  0.        ,\n",
       "         0.2       ,  0.2       ,  0.        , -0.8       ,  0.        ],\n",
       "       [ 0.        ,  0.        ,  0.        ,  0.04397996,  0.        ,\n",
       "         0.        ,  0.16316266,  0.        ,  0.        , -0.20714262]])"
      ]
     },
     "execution_count": 122,
     "metadata": {},
     "output_type": "execute_result"
    }
   ],
   "source": [
    "L_tilde"
   ]
  },
  {
   "cell_type": "code",
   "execution_count": 123,
   "metadata": {},
   "outputs": [
    {
     "data": {
      "text/plain": [
       "0.8333333333333333"
      ]
     },
     "execution_count": 123,
     "metadata": {},
     "output_type": "execute_result"
    }
   ],
   "source": [
    "np.max(-np.diag(L_tilde))"
   ]
  },
  {
   "cell_type": "code",
   "execution_count": 149,
   "metadata": {},
   "outputs": [],
   "source": [
    "def normalize_generator(L_tilde, n):\n",
    "    c = np.maximum(np.max(-np.diag(L_tilde)), 1)\n",
    "    print('c:', c)\n",
    "    return L_tilde / c"
   ]
  },
  {
   "cell_type": "code",
   "execution_count": 189,
   "metadata": {},
   "outputs": [
    {
     "name": "stdout",
     "output_type": "stream",
     "text": [
      "0.014642262819846232\n",
      "0.028743504999923356\n",
      "0.10989829155102052\n",
      "c: 1.0\n",
      "0.014642262819846232\n",
      "c: 1.8012440099272042\n",
      "0.015957585336306014\n",
      "c: 6.4617732586197025\n",
      "0.017007450919826545\n"
     ]
    },
    {
     "name": "stderr",
     "output_type": "stream",
     "text": [
      "<ipython-input-120-e6e971544815>:3: RuntimeWarning: invalid value encountered in true_divide\n",
      "  r = np.nan_to_num(np.divide(PI.T, PI) * np.divide(L.T, L), 0)\n",
      "<ipython-input-120-e6e971544815>:8: RuntimeWarning: divide by zero encountered in true_divide\n",
      "  correction = 2/(1+1/r)\n"
     ]
    }
   ],
   "source": [
    "n = 100\n",
    "L = rand_kernel_matrix(n, 0.05) - np.identity(n)\n",
    "target = random_distribution(n)\n",
    "print(spectral_gap(metropolis_projected_generator(L, target, n, phi='tv'), n))\n",
    "print(spectral_gap(metropolis_projected_generator(L, target, n, phi='chi'), n))\n",
    "print(spectral_gap(metropolis_projected_generator(L, target, n, phi='kl'), n))\n",
    "\n",
    "print(spectral_gap(normalize_generator(metropolis_projected_generator(L, target, n, phi='tv'), n), n))\n",
    "print(spectral_gap(normalize_generator(metropolis_projected_generator(L, target, n, phi='chi'), n), n))\n",
    "print(spectral_gap(normalize_generator(metropolis_projected_generator(L, target, n, phi='kl'), n), n))"
   ]
  },
  {
   "cell_type": "code",
   "execution_count": 194,
   "metadata": {},
   "outputs": [
    {
     "data": {
      "text/plain": [
       "array([-0.85714286, -1.        , -1.        , -1.        , -1.        ,\n",
       "       -1.        , -1.        , -1.        , -0.85714286, -0.66666667,\n",
       "       -1.        , -1.        , -1.        , -1.        , -1.        ,\n",
       "       -1.        , -1.        , -1.        , -1.        , -1.        ,\n",
       "       -1.        , -0.8       , -1.        , -1.        , -1.        ,\n",
       "       -1.        , -1.        , -1.        , -1.        , -1.        ,\n",
       "       -1.        , -0.85714286, -1.        , -1.        , -1.        ,\n",
       "       -1.        , -0.85714286, -1.        , -0.85714286, -1.        ,\n",
       "       -1.        , -1.        , -1.        , -1.        , -1.        ,\n",
       "       -0.85714286, -1.        , -1.        , -1.        , -0.85714286,\n",
       "       -0.8       , -1.        , -0.8       , -1.        , -1.        ,\n",
       "       -1.        , -0.83333333, -0.875     , -0.5       , -1.        ,\n",
       "       -0.8       , -0.875     , -1.        , -1.        , -1.        ,\n",
       "       -1.        , -0.85714286, -1.        , -0.66666667, -1.        ,\n",
       "       -1.        , -1.        , -1.        , -1.        , -1.        ,\n",
       "       -1.        , -1.        , -1.        , -1.        , -0.85714286,\n",
       "       -1.        , -1.        , -1.        , -1.        , -1.        ,\n",
       "       -1.        , -1.        , -1.        , -1.        , -1.        ,\n",
       "       -1.        , -1.        , -1.        , -0.75      , -0.88888889,\n",
       "       -0.875     , -1.        , -0.83333333, -0.8       , -1.        ])"
      ]
     },
     "execution_count": 194,
     "metadata": {},
     "output_type": "execute_result"
    }
   ],
   "source": [
    "np.diag(L)"
   ]
  },
  {
   "cell_type": "code",
   "execution_count": 146,
   "metadata": {},
   "outputs": [
    {
     "name": "stderr",
     "output_type": "stream",
     "text": [
      "  0%|          | 0/19 [00:00<?, ?it/s]<ipython-input-120-e6e971544815>:3: RuntimeWarning: invalid value encountered in true_divide\n",
      "  r = np.nan_to_num(np.divide(PI.T, PI) * np.divide(L.T, L), 0)\n",
      "<ipython-input-120-e6e971544815>:8: RuntimeWarning: divide by zero encountered in true_divide\n",
      "  correction = 2/(1+1/r)\n",
      "100%|██████████| 19/19 [06:20<00:00, 20.02s/it]\n"
     ]
    }
   ],
   "source": [
    "counter_list = []\n",
    "X = np.arange(0.05, 1, 0.05)\n",
    "\n",
    "for p in tqdm.tqdm(X):\n",
    "    counter = 0\n",
    "    \n",
    "    for _ in range(1000):\n",
    "        n = 100\n",
    "        L = rand_kernel_matrix(n, p) - np.identity(n)\n",
    "        target = random_distribution(n)\n",
    "    #     print(spectral_gap(metropolis_projected_generator(L, target, n, phi='tv'), n))\n",
    "    #     print(spectral_gap(metropolis_projected_generator(L, target, n, phi='chi'), n))\n",
    "    #     print(spectral_gap(metropolis_projected_generator(L, target, n, phi='kl'), n))\n",
    "\n",
    "        a = spectral_gap(normalize_generator(metropolis_projected_generator(L, target, n, phi='tv'), n), n)\n",
    "        b = spectral_gap(normalize_generator(metropolis_projected_generator(L, target, n, phi='chi'), n), n)\n",
    "        c = spectral_gap(normalize_generator(metropolis_projected_generator(L, target, n, phi='kl'), n), n)\n",
    "\n",
    "        if not (a >= b >= c):\n",
    "#             print('contradiction', a, b, c)\n",
    "            counter += 1\n",
    "    counter_list.append(counter)"
   ]
  },
  {
   "cell_type": "code",
   "execution_count": 147,
   "metadata": {},
   "outputs": [
    {
     "data": {
      "image/png": "[encoded data removed]",
      "text/plain": [
       "<Figure size 432x288 with 1 Axes>"
      ]
     },
     "metadata": {
      "needs_background": "light"
     },
     "output_type": "display_data"
    }
   ],
   "source": [
    "plt.plot(X, counter_list)\n",
    "plt.show()"
   ]
  },
  {
   "cell_type": "code",
   "execution_count": 148,
   "metadata": {},
   "outputs": [
    {
     "data": {
      "text/plain": [
       "[151, 10, 0, 0, 0, 0, 0, 0, 0, 0, 0, 0, 0, 0, 0, 0, 0, 0, 0]"
      ]
     },
     "execution_count": 148,
     "metadata": {},
     "output_type": "execute_result"
    }
   ],
   "source": [
    "counter_list"
   ]
  },
  {
   "cell_type": "markdown",
   "metadata": {},
   "source": [
    "## Convergence in TV Distance"
   ]
  },
  {
   "cell_type": "code",
   "execution_count": 76,
   "metadata": {},
   "outputs": [],
   "source": [
    "def TV(h, target):\n",
    "    return np.sum(np.abs(h-1) * target)"
   ]
  },
  {
   "cell_type": "code",
   "execution_count": 162,
   "metadata": {},
   "outputs": [],
   "source": [
    "n = 100\n",
    "initial = uniform_distribution(n)\n",
    "target = random_distribution(n)\n",
    "h = initial / target\n",
    "\n",
    "K = rand_kernel_matrix(n, 0.1)\n",
    "L = K - np.identity(n)"
   ]
  },
  {
   "cell_type": "code",
   "execution_count": 163,
   "metadata": {},
   "outputs": [
    {
     "data": {
      "text/plain": [
       "0.4420041396062484"
      ]
     },
     "execution_count": 163,
     "metadata": {},
     "output_type": "execute_result"
    }
   ],
   "source": [
    "gamma = spectral_gap(L, n)\n",
    "gamma"
   ]
  },
  {
   "cell_type": "code",
   "execution_count": 164,
   "metadata": {},
   "outputs": [
    {
     "data": {
      "text/plain": [
       "0.47910970172398615"
      ]
     },
     "execution_count": 164,
     "metadata": {},
     "output_type": "execute_result"
    }
   ],
   "source": [
    "tv = TV(h, target)\n",
    "tv"
   ]
  },
  {
   "cell_type": "code",
   "execution_count": 165,
   "metadata": {},
   "outputs": [
    {
     "data": {
      "text/plain": [
       "array([1, 1, 0, 0, 0, 1, 1, 0, 1, 0, 1, 1, 0, 1, 1, 0, 0, 1, 1, 0, 0, 1,\n",
       "       1, 0, 1, 0, 0, 1, 1, 1, 1, 1, 1, 0, 0, 0, 1, 0, 0, 0, 1, 0, 0, 0,\n",
       "       1, 1, 0, 0, 1, 0, 1, 1, 0, 1, 1, 0, 1, 1, 1, 0, 0, 1, 0, 1, 1, 0,\n",
       "       0, 1, 0, 1, 0, 1, 0, 1, 1, 0, 0, 1, 1, 0, 1, 0, 0, 1, 1, 0, 1, 1,\n",
       "       0, 0, 1, 1, 0, 1, 1, 0, 0, 0, 1, 0])"
      ]
     },
     "execution_count": 165,
     "metadata": {},
     "output_type": "execute_result"
    }
   ],
   "source": [
    "(h >= 1).astype(int)"
   ]
  },
  {
   "cell_type": "code",
   "execution_count": 166,
   "metadata": {},
   "outputs": [
    {
     "data": {
      "text/plain": [
       "array([0, 0, 1, 1, 1, 0, 0, 1, 0, 1, 0, 0, 1, 0, 0, 1, 1, 0, 0, 1, 1, 0,\n",
       "       0, 1, 0, 1, 1, 0, 0, 0, 0, 0, 0, 1, 1, 1, 0, 1, 1, 1, 0, 1, 1, 1,\n",
       "       0, 0, 1, 1, 0, 1, 0, 0, 1, 0, 0, 1, 0, 0, 0, 1, 1, 0, 1, 0, 0, 1,\n",
       "       1, 0, 1, 0, 1, 0, 1, 0, 0, 1, 1, 0, 0, 1, 0, 1, 1, 0, 0, 1, 0, 0,\n",
       "       1, 1, 0, 0, 1, 0, 0, 1, 1, 1, 0, 1])"
      ]
     },
     "execution_count": 166,
     "metadata": {},
     "output_type": "execute_result"
    }
   ],
   "source": [
    "(h<1).astype(int)"
   ]
  },
  {
   "cell_type": "code",
   "execution_count": 170,
   "metadata": {},
   "outputs": [
    {
     "data": {
      "text/plain": [
       "-1.2885735136972738"
      ]
     },
     "execution_count": 170,
     "metadata": {},
     "output_type": "execute_result"
    }
   ],
   "source": [
    "dirichlet = np.sum(((h >= 1).astype(int) - (h<1).astype(int)) * (L @ (h - 1)) * target)\n",
    "dirichlet"
   ]
  },
  {
   "cell_type": "code",
   "execution_count": 168,
   "metadata": {},
   "outputs": [
    {
     "data": {
      "text/plain": [
       "False"
      ]
     },
     "execution_count": 168,
     "metadata": {},
     "output_type": "execute_result"
    }
   ],
   "source": [
    "dirichlet > -gamma * tv"
   ]
  },
  {
   "cell_type": "code",
   "execution_count": 177,
   "metadata": {},
   "outputs": [
    {
     "name": "stdout",
     "output_type": "stream",
     "text": [
      "contradiction\n",
      "contradiction\n"
     ]
    }
   ],
   "source": [
    "for _ in range(1000):\n",
    "    n = 100\n",
    "    initial = uniform_distribution(n)\n",
    "    target = random_distribution(n)\n",
    "    h = initial / target\n",
    "\n",
    "    K = rand_kernel_matrix(n, 0.1)\n",
    "    L = K - np.identity(n)\n",
    "    gamma = spectral_gap(L, n)\n",
    "    \n",
    "    tv = TV(h, target)\n",
    "    dirichlet = np.sum(((h >= 1).astype(int) - (h<1).astype(int)) * (L @ (h-1)) * target)\n",
    "    \n",
    "    if dirichlet > 0:\n",
    "        print('contradiction')"
   ]
  },
  {
   "cell_type": "code",
   "execution_count": null,
   "metadata": {},
   "outputs": [],
   "source": []
  }
 ],
 "metadata": {
  "kernelspec": {
   "display_name": "Python 3",
   "language": "python",
   "name": "python3"
  },
  "language_info": {
   "codemirror_mode": {
    "name": "ipython",
    "version": 3
   },
   "file_extension": ".py",
   "mimetype": "text/x-python",
   "name": "python",
   "nbconvert_exporter": "python",
   "pygments_lexer": "ipython3",
   "version": "3.8.3"
  }
 },
 "nbformat": 4,
 "nbformat_minor": 4
}
