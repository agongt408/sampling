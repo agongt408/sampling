{
 "cells": [
  {
   "cell_type": "code",
   "execution_count": 1,
   "metadata": {},
   "outputs": [],
   "source": [
    "from sympy import *"
   ]
  },
  {
   "cell_type": "code",
   "execution_count": 36,
   "metadata": {},
   "outputs": [],
   "source": [
    "u, a, x = symbols('u a x')"
   ]
  },
  {
   "cell_type": "code",
   "execution_count": 37,
   "metadata": {},
   "outputs": [],
   "source": [
    "beta = symbols('beta')\n",
    "# h_x = -beta*log(x)\n",
    "\n",
    "c_1, c_2 = symbols('c_1 c_2')\n",
    "# h_x = c_2 - (2 * atan((x + 1)/sqrt(2 * c_1 - 1)))/sqrt(2 *c_1 - 1)\n",
    "h_x = c_2 - beta*log(c_1 + x)\n",
    "\n",
    "h_prime_x = diff(h_x, x)"
   ]
  },
  {
   "cell_type": "code",
   "execution_count": 38,
   "metadata": {},
   "outputs": [
    {
     "data": {
      "text/latex": [
       "$\\displaystyle - \\beta \\log{\\left(c_{1} + x \\right)} + c_{2}$"
      ],
      "text/plain": [
       "-beta*log(c_1 + x) + c_2"
      ]
     },
     "execution_count": 38,
     "metadata": {},
     "output_type": "execute_result"
    }
   ],
   "source": [
    "h_x"
   ]
  },
  {
   "cell_type": "code",
   "execution_count": 19,
   "metadata": {},
   "outputs": [
    {
     "data": {
      "text/latex": [
       "$\\displaystyle - \\frac{\\beta}{c_{1} + x}$"
      ],
      "text/plain": [
       "-beta/(c_1 + x)"
      ]
     },
     "execution_count": 19,
     "metadata": {},
     "output_type": "execute_result"
    }
   ],
   "source": [
    "h_prime_x"
   ]
  },
  {
   "cell_type": "code",
   "execution_count": 20,
   "metadata": {},
   "outputs": [],
   "source": [
    "h_a = h_x.subs(x, a)\n",
    "h_ua = h_x.subs(x, u*a)"
   ]
  },
  {
   "cell_type": "code",
   "execution_count": 21,
   "metadata": {},
   "outputs": [],
   "source": [
    "h_prime_a = h_prime_x.subs(x, a)\n",
    "h_prime_ua = h_prime_x.subs(x, u*a)"
   ]
  },
  {
   "cell_type": "code",
   "execution_count": 22,
   "metadata": {},
   "outputs": [
    {
     "data": {
      "text/latex": [
       "$\\displaystyle - \\frac{\\beta}{a + c_{1}}$"
      ],
      "text/plain": [
       "-beta/(a + c_1)"
      ]
     },
     "execution_count": 22,
     "metadata": {},
     "output_type": "execute_result"
    }
   ],
   "source": [
    "h_prime_a"
   ]
  },
  {
   "cell_type": "code",
   "execution_count": 23,
   "metadata": {},
   "outputs": [
    {
     "data": {
      "text/latex": [
       "$\\displaystyle - \\frac{\\beta}{a u + c_{1}}$"
      ],
      "text/plain": [
       "-beta/(a*u + c_1)"
      ]
     },
     "execution_count": 23,
     "metadata": {},
     "output_type": "execute_result"
    }
   ],
   "source": [
    "h_prime_ua"
   ]
  },
  {
   "cell_type": "code",
   "execution_count": 24,
   "metadata": {},
   "outputs": [],
   "source": [
    "f = (-h_prime_ua) * (u-1) * a * (2-(u-1)*a*h_prime_a) + 2*(h_prime_a/h_prime_ua-1) + \\\n",
    "    2*(u-1)*a*h_prime_a - 1 + (u-1)*a*h_prime_a + \\\n",
    "    exp(h_ua-h_a)"
   ]
  },
  {
   "cell_type": "code",
   "execution_count": 25,
   "metadata": {},
   "outputs": [
    {
     "data": {
      "text/latex": [
       "$\\displaystyle \\frac{a \\beta \\left(u - 1\\right) \\left(\\frac{a \\beta \\left(u - 1\\right)}{a + c_{1}} + 2\\right)}{a u + c_{1}} - \\frac{a \\beta \\left(u - 1\\right)}{a + c_{1}} - \\frac{a \\beta \\left(2 u - 2\\right)}{a + c_{1}} + e^{\\beta \\log{\\left(a + c_{1} \\right)} - \\beta \\log{\\left(a u + c_{1} \\right)}} - 3 + \\frac{2 \\left(a u + c_{1}\\right)}{a + c_{1}}$"
      ],
      "text/plain": [
       "a*beta*(u - 1)*(a*beta*(u - 1)/(a + c_1) + 2)/(a*u + c_1) - a*beta*(u - 1)/(a + c_1) - a*beta*(2*u - 2)/(a + c_1) + exp(beta*log(a + c_1) - beta*log(a*u + c_1)) - 3 + 2*(a*u + c_1)/(a + c_1)"
      ]
     },
     "execution_count": 25,
     "metadata": {},
     "output_type": "execute_result"
    }
   ],
   "source": [
    "f"
   ]
  },
  {
   "cell_type": "code",
   "execution_count": 35,
   "metadata": {},
   "outputs": [
    {
     "data": {
      "image/png": "[encoded data removed]",
      "text/plain": [
       "<Figure size 432x288 with 1 Axes>"
      ]
     },
     "metadata": {
      "needs_background": "light"
     },
     "output_type": "display_data"
    }
   ],
   "source": [
    "# p = plot(f.subs([(a, 1), (c, 0.5)]), (u, 1, 100))\n",
    "p = plot(f.subs([(a, 1), (c_1, 4), (c_2,2), (beta, 0.9999)]), (u, 1, 100))"
   ]
  },
  {
   "cell_type": "code",
   "execution_count": null,
   "metadata": {},
   "outputs": [],
   "source": []
  }
 ],
 "metadata": {
  "kernelspec": {
   "display_name": "Python 3",
   "language": "python",
   "name": "python3"
  },
  "language_info": {
   "codemirror_mode": {
    "name": "ipython",
    "version": 3
   },
   "file_extension": ".py",
   "mimetype": "text/x-python",
   "name": "python",
   "nbconvert_exporter": "python",
   "pygments_lexer": "ipython3",
   "version": "3.8.3"
  }
 },
 "nbformat": 4,
 "nbformat_minor": 4
}
