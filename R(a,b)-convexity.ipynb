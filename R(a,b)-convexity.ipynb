{
 "cells": [
  {
   "cell_type": "code",
   "execution_count": 1,
   "metadata": {},
   "outputs": [],
   "source": [
    "from sympy import *"
   ]
  },
  {
   "cell_type": "code",
   "execution_count": 2,
   "metadata": {},
   "outputs": [],
   "source": [
    "u, a, x = symbols('u a x')"
   ]
  },
  {
   "cell_type": "code",
   "execution_count": 48,
   "metadata": {},
   "outputs": [],
   "source": [
    "beta = symbols('beta') # Condition: 0 < beta < 1\n",
    "# h_x = -beta*log(x)\n",
    "\n",
    "c_1, c_2 = symbols('c_1 c_2')\n",
    "# h_x = c_2 - beta * (2 * atan((x + 1)/sqrt(2 * c_1 - 1)))/sqrt(2 *c_1 - 1)\n",
    "h_x = c_2 - beta*log(c_1 + x)\n",
    "\n",
    "h_prime_x = diff(h_x, x)"
   ]
  },
  {
   "cell_type": "code",
   "execution_count": 49,
   "metadata": {},
   "outputs": [
    {
     "data": {
      "text/latex": [
       "$\\displaystyle - \\beta \\log{\\left(c_{1} + x \\right)} + c_{2}$"
      ],
      "text/plain": [
       "-beta*log(c_1 + x) + c_2"
      ]
     },
     "execution_count": 49,
     "metadata": {},
     "output_type": "execute_result"
    }
   ],
   "source": [
    "h_x"
   ]
  },
  {
   "cell_type": "code",
   "execution_count": 50,
   "metadata": {},
   "outputs": [
    {
     "data": {
      "text/latex": [
       "$\\displaystyle - \\frac{\\beta}{c_{1} + x}$"
      ],
      "text/plain": [
       "-beta/(c_1 + x)"
      ]
     },
     "execution_count": 50,
     "metadata": {},
     "output_type": "execute_result"
    }
   ],
   "source": [
    "h_prime_x"
   ]
  },
  {
   "cell_type": "code",
   "execution_count": 51,
   "metadata": {},
   "outputs": [],
   "source": [
    "h_a = h_x.subs(x, a)\n",
    "h_ua = h_x.subs(x, u*a)"
   ]
  },
  {
   "cell_type": "code",
   "execution_count": 52,
   "metadata": {},
   "outputs": [],
   "source": [
    "h_prime_a = h_prime_x.subs(x, a)\n",
    "h_prime_ua = h_prime_x.subs(x, u*a)"
   ]
  },
  {
   "cell_type": "code",
   "execution_count": 53,
   "metadata": {},
   "outputs": [
    {
     "data": {
      "text/latex": [
       "$\\displaystyle - \\frac{\\beta}{a + c_{1}}$"
      ],
      "text/plain": [
       "-beta/(a + c_1)"
      ]
     },
     "execution_count": 53,
     "metadata": {},
     "output_type": "execute_result"
    }
   ],
   "source": [
    "h_prime_a"
   ]
  },
  {
   "cell_type": "code",
   "execution_count": 54,
   "metadata": {},
   "outputs": [
    {
     "data": {
      "text/latex": [
       "$\\displaystyle - \\frac{\\beta}{a u + c_{1}}$"
      ],
      "text/plain": [
       "-beta/(a*u + c_1)"
      ]
     },
     "execution_count": 54,
     "metadata": {},
     "output_type": "execute_result"
    }
   ],
   "source": [
    "h_prime_ua"
   ]
  },
  {
   "cell_type": "code",
   "execution_count": 55,
   "metadata": {},
   "outputs": [],
   "source": [
    "f = (-h_prime_ua) * (u-1) * a * (2-(u-1)*a*h_prime_a) + 2*(h_prime_a/h_prime_ua-1) + \\\n",
    "    2*(u-1)*a*h_prime_a - 1 + (u-1)*a*h_prime_a + \\\n",
    "    exp(h_ua-h_a)"
   ]
  },
  {
   "cell_type": "code",
   "execution_count": 56,
   "metadata": {},
   "outputs": [
    {
     "data": {
      "text/latex": [
       "$\\displaystyle \\frac{a \\beta \\left(u - 1\\right) \\left(\\frac{a \\beta \\left(u - 1\\right)}{a + c_{1}} + 2\\right)}{a u + c_{1}} - \\frac{a \\beta \\left(u - 1\\right)}{a + c_{1}} - \\frac{a \\beta \\left(2 u - 2\\right)}{a + c_{1}} + e^{\\beta \\log{\\left(a + c_{1} \\right)} - \\beta \\log{\\left(a u + c_{1} \\right)}} - 3 + \\frac{2 \\left(a u + c_{1}\\right)}{a + c_{1}}$"
      ],
      "text/plain": [
       "a*beta*(u - 1)*(a*beta*(u - 1)/(a + c_1) + 2)/(a*u + c_1) - a*beta*(u - 1)/(a + c_1) - a*beta*(2*u - 2)/(a + c_1) + exp(beta*log(a + c_1) - beta*log(a*u + c_1)) - 3 + 2*(a*u + c_1)/(a + c_1)"
      ]
     },
     "execution_count": 56,
     "metadata": {},
     "output_type": "execute_result"
    }
   ],
   "source": [
    "f"
   ]
  },
  {
   "cell_type": "code",
   "execution_count": 57,
   "metadata": {},
   "outputs": [],
   "source": [
    "f_u = f.subs([(a, 1), (c_1, 1), (c_2,0), (beta, 0.5)])"
   ]
  },
  {
   "cell_type": "code",
   "execution_count": 58,
   "metadata": {},
   "outputs": [
    {
     "data": {
      "text/latex": [
       "$\\displaystyle 0.25 u + \\frac{0.5 \\left(0.25 u + 1.75\\right) \\left(u - 1\\right)}{u + 1} + \\frac{1.4142135623731}{\\left(u + 1\\right)^{0.5}} - 1.25$"
      ],
      "text/plain": [
       "0.25*u + 0.5*(0.25*u + 1.75)*(u - 1)/(u + 1) + 1.4142135623731*(u + 1)**(-0.5) - 1.25"
      ]
     },
     "execution_count": 58,
     "metadata": {},
     "output_type": "execute_result"
    }
   ],
   "source": [
    "f_u"
   ]
  },
  {
   "cell_type": "code",
   "execution_count": 59,
   "metadata": {},
   "outputs": [
    {
     "data": {
      "image/png": "[encoded data removed]",
      "text/plain": [
       "<Figure size 432x288 with 1 Axes>"
      ]
     },
     "metadata": {
      "needs_background": "light"
     },
     "output_type": "display_data"
    }
   ],
   "source": [
    "# p = plot(f.subs([(a, 1), (c, 0.5)]), (u, 1, 100))\n",
    "p = plot(f_u, (u, 1, 100))"
   ]
  },
  {
   "cell_type": "code",
   "execution_count": 62,
   "metadata": {},
   "outputs": [],
   "source": [
    "vals = [(a, 1), (c_1, 1), (c_2,0), (beta, 1)]\n",
    "sinh = (exp(h_a-h_ua)-exp(h_ua-h_a)).subs(vals)\n",
    "h = (1 - (u-1)*a *h_prime_a - h_prime_ua / h_prime_a).subs(vals)"
   ]
  },
  {
   "cell_type": "code",
   "execution_count": 63,
   "metadata": {},
   "outputs": [
    {
     "data": {
      "image/png": "[encoded data removed]",
      "text/plain": [
       "<Figure size 432x288 with 1 Axes>"
      ]
     },
     "metadata": {
      "needs_background": "light"
     },
     "output_type": "display_data"
    }
   ],
   "source": [
    "xrange = (u, 1, 100)\n",
    "p1 = plot(sinh, xrange, show=False, line_color='blue')\n",
    "p2 = plot(h, xrange, show=False, line_color='red')\n",
    "p1.extend(p2)\n",
    "p1.show()"
   ]
  },
  {
   "cell_type": "code",
   "execution_count": null,
   "metadata": {},
   "outputs": [],
   "source": []
  }
 ],
 "metadata": {
  "kernelspec": {
   "display_name": "Python 3",
   "language": "python",
   "name": "python3"
  },
  "language_info": {
   "codemirror_mode": {
    "name": "ipython",
    "version": 3
   },
   "file_extension": ".py",
   "mimetype": "text/x-python",
   "name": "python",
   "nbconvert_exporter": "python",
   "pygments_lexer": "ipython3",
   "version": "3.8.3"
  }
 },
 "nbformat": 4,
 "nbformat_minor": 4
}
